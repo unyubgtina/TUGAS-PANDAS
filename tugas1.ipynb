{
 "cells": [
  {
   "cell_type": "code",
   "execution_count": 10,
   "metadata": {},
   "outputs": [
    {
     "name": "stdout",
     "output_type": "stream",
     "text": [
      "Total produksi sampah di Jawa Barat pada tahun 2015: 20969.269999999997 ton\n"
     ]
    }
   ],
   "source": [
    "import pandas as pd\n",
    "\n",
    "data = pd.read_excel('DataSampah.xlsx')\n",
    "\n",
    "df = pd.DataFrame({\n",
    "    'Kode Provinsi': data['kode_provinsi'],\n",
    "    'Nama Provinsi': data['nama_provinsi'],  \n",
    "    'Kode Kabupaten Kota': data['kode_kabupaten_kota'],\n",
    "    'Nama Kabupaten Kota' : data['nama_kabupaten_kota'],\n",
    "    'Jumlah Produksi Sampah' : data['jumlah_produksi_sampah'],\n",
    "    'Satuan (Ton)' : data['satuan'],\n",
    "    'Tahun' : data['tahun']\n",
    "})\n",
    "df.index = df.index + 1\n",
    "df"
   ]
  },
  {
   "cell_type": "code",
   "execution_count": null,
   "metadata": {},
   "outputs": [],
   "source": [
    "df"
   ]
  },
  {
   "cell_type": "code",
   "execution_count": 4,
   "metadata": {},
   "outputs": [
    {
     "name": "stdout",
     "output_type": "stream",
     "text": [
      "Total produksi sampah di Jawa Barat pada tahun 2015: 20969.269999999997 ton\n"
     ]
    }
   ],
   "source": [
    "tahun_tertentu = 2015 \n",
    "jabar = df[(df['Nama Provinsi'] == 'JAWA BARAT') & (df['Tahun'] == tahun_tertentu)]\n",
    "total_sampah = jabar['Jumlah Produksi Sampah'].sum()\n",
    "print(f\"Total produksi sampah di Jawa Barat pada tahun {tahun_tertentu}: {total_sampah} ton\")"
   ]
  },
  {
   "cell_type": "code",
   "execution_count": 5,
   "metadata": {},
   "outputs": [
    {
     "name": "stdout",
     "output_type": "stream",
     "text": [
      "Tahun\n",
      "2015    20969.27\n",
      "2016    20969.27\n",
      "2017    20969.27\n",
      "2018    22772.92\n",
      "2019    24490.56\n",
      "2020    25333.00\n",
      "2021    15735.36\n",
      "2022        0.00\n",
      "2023        0.00\n",
      "Name: Jumlah Produksi Sampah, dtype: float64\n"
     ]
    }
   ],
   "source": [
    "total_sampah_pertahun = df.groupby('Tahun')['Jumlah Produksi Sampah'].sum()\n",
    "print(total_sampah_pertahun)"
   ]
  },
  {
   "cell_type": "code",
   "execution_count": 6,
   "metadata": {},
   "outputs": [
    {
     "name": "stdout",
     "output_type": "stream",
     "text": [
      "Nama Kabupaten Kota  Tahun\n",
      "KABUPATEN BANDUNG    2015     1895.94\n",
      "                     2016     1895.94\n",
      "                     2017     1895.94\n",
      "                     2018     2068.06\n",
      "                     2019     1334.12\n",
      "                               ...   \n",
      "KOTA TASIKMALAYA     2019      291.60\n",
      "                     2020      285.00\n",
      "                     2021      295.87\n",
      "                     2022        0.00\n",
      "                     2023        0.00\n",
      "Name: Jumlah Produksi Sampah, Length: 243, dtype: float64\n"
     ]
    }
   ],
   "source": [
    "total_sampah_per_kota_tahun = df.groupby(['Nama Kabupaten Kota', 'Tahun'])['Jumlah Produksi Sampah'].sum()\n",
    "print(total_sampah_per_kota_tahun)"
   ]
  }
 ],
 "metadata": {
  "kernelspec": {
   "display_name": "Python 3",
   "language": "python",
   "name": "python3"
  },
  "language_info": {
   "codemirror_mode": {
    "name": "ipython",
    "version": 3
   },
   "file_extension": ".py",
   "mimetype": "text/x-python",
   "name": "python",
   "nbconvert_exporter": "python",
   "pygments_lexer": "ipython3",
   "version": "3.12.6"
  }
 },
 "nbformat": 4,
 "nbformat_minor": 2
}
