{
 "cells": [
  {
   "cell_type": "code",
   "execution_count": 10,
   "metadata": {},
   "outputs": [
    {
     "name": "stdout",
     "output_type": "stream",
     "text": [
      "Total produksi sampah di Jawa Barat pada tahun 2015: 20969.269999999997 ton\n"
     ]
    }
   ],
   "source": [
    "import pandas as pd\n",
    "\n",
    "data = pd.read_excel('DataSampah.xlsx')\n",
    "\n",
    "df = pd.DataFrame({\n",
    "    'Kode Provinsi': data['kode_provinsi'],\n",
    "    'Nama Provinsi': data['nama_provinsi'],  \n",
    "    'Kode Kabupaten Kota': data['kode_kabupaten_kota'],\n",
    "    'Nama Kabupaten Kota' : data['nama_kabupaten_kota'],\n",
    "    'Jumlah Produksi Sampah' : data['jumlah_produksi_sampah'],\n",
    "    'Satuan (Ton)' : data['satuan'],\n",
    "    'Tahun' : data['tahun']\n",
    "})\n",
    "df.index = df.index + 1\n",
    "df"
   ]
  },
  {
   "cell_type": "code",
   "execution_count": null,
   "metadata": {},
   "outputs": [],
   "source": [
    "df"
   ]
  },
  {
   "cell_type": "code",
   "execution_count": 4,
   "metadata": {},
   "outputs": [
    {
     "name": "stdout",
     "output_type": "stream",
     "text": [
      "Total produksi sampah di Jawa Barat pada tahun 2015: 20969.269999999997 ton\n"
     ]
    }
   ],
   "source": [
    "tahun_tertentu = 2015 \n",
    "jabar = df[(df['Nama Provinsi'] == 'JAWA BARAT') & (df['Tahun'] == tahun_tertentu)]\n",
    "total_sampah = jabar['Jumlah Produksi Sampah'].sum()\n",
    "print(f\"Total produksi sampah di Jawa Barat pada tahun {tahun_tertentu}: {total_sampah} ton\")"
   ]
  },
  {
   "cell_type": "code",
   "execution_count": 5,
   "metadata": {},
   "outputs": [
    {
     "name": "stdout",
     "output_type": "stream",
     "text": [
      "Tahun\n",
      "2015    20969.27\n",
      "2016    20969.27\n",
      "2017    20969.27\n",
      "2018    22772.92\n",
      "2019    24490.56\n",
      "2020    25333.00\n",
      "2021    15735.36\n",
      "2022        0.00\n",
      "2023        0.00\n",
      "Name: Jumlah Produksi Sampah, dtype: float64\n"
     ]
    }
   ],
   "source": [
    "total_sampah_pertahun = df.groupby('Tahun')['Jumlah Produksi Sampah'].sum()\n",
    "print(total_sampah_pertahun)"
   ]
  },
  {
   "cell_type": "code",
   "execution_count": 6,
   "metadata": {},
   "outputs": [
    {
     "name": "stdout",
     "output_type": "stream",
     "text": [
      "Nama Kabupaten Kota  Tahun\n",
      "KABUPATEN BANDUNG    2015     1895.94\n",
      "                     2016     1895.94\n",
      "                     2017     1895.94\n",
      "                     2018     2068.06\n",
      "                     2019     1334.12\n",
      "                               ...   \n",
      "KOTA TASIKMALAYA     2019      291.60\n",
      "                     2020      285.00\n",
      "                     2021      295.87\n",
      "                     2022        0.00\n",
      "                     2023        0.00\n",
      "Name: Jumlah Produksi Sampah, Length: 243, dtype: float64\n"
     ]
    }
   ],
   "source": [
    "total_sampah_per_kota_tahun = df.groupby(['Nama Kabupaten Kota', 'Tahun'])['Jumlah Produksi Sampah'].sum()\n",
    "print(total_sampah_per_kota_tahun)"
   ]
  },
  {
   "cell_type": "code",
   "execution_count": 7,
   "metadata": {},
   "outputs": [
    {
     "name": "stdout",
     "output_type": "stream",
     "text": [
      "Collecting nbformatNote: you may need to restart the kernel to use updated packages.\n"
     ]
    },
    {
     "name": "stderr",
     "output_type": "stream",
     "text": [
      "\n",
      "[notice] A new release of pip is available: 24.2 -> 24.3.1\n",
      "[notice] To update, run: python.exe -m pip install --upgrade pip\n"
     ]
    },
    {
     "name": "stdout",
     "output_type": "stream",
     "text": [
      "\n",
      "  Downloading nbformat-5.10.4-py3-none-any.whl.metadata (3.6 kB)\n",
      "Collecting fastjsonschema>=2.15 (from nbformat)\n",
      "  Downloading fastjsonschema-2.21.1-py3-none-any.whl.metadata (2.2 kB)\n",
      "Collecting jsonschema>=2.6 (from nbformat)\n",
      "  Downloading jsonschema-4.23.0-py3-none-any.whl.metadata (7.9 kB)\n",
      "Requirement already satisfied: jupyter-core!=5.0.*,>=4.12 in c:\\users\\matilde\\appdata\\roaming\\python\\python312\\site-packages (from nbformat) (5.7.2)\n",
      "Requirement already satisfied: traitlets>=5.1 in c:\\users\\matilde\\appdata\\roaming\\python\\python312\\site-packages (from nbformat) (5.14.3)\n",
      "Collecting attrs>=22.2.0 (from jsonschema>=2.6->nbformat)\n",
      "  Downloading attrs-24.2.0-py3-none-any.whl.metadata (11 kB)\n",
      "Collecting jsonschema-specifications>=2023.03.6 (from jsonschema>=2.6->nbformat)\n",
      "  Downloading jsonschema_specifications-2024.10.1-py3-none-any.whl.metadata (3.0 kB)\n",
      "Collecting referencing>=0.28.4 (from jsonschema>=2.6->nbformat)\n",
      "  Downloading referencing-0.35.1-py3-none-any.whl.metadata (2.8 kB)\n",
      "Collecting rpds-py>=0.7.1 (from jsonschema>=2.6->nbformat)\n",
      "  Downloading rpds_py-0.22.3-cp312-cp312-win_amd64.whl.metadata (4.2 kB)\n",
      "Requirement already satisfied: platformdirs>=2.5 in c:\\users\\matilde\\appdata\\roaming\\python\\python312\\site-packages (from jupyter-core!=5.0.*,>=4.12->nbformat) (4.3.6)\n",
      "Requirement already satisfied: pywin32>=300 in c:\\users\\matilde\\appdata\\roaming\\python\\python312\\site-packages (from jupyter-core!=5.0.*,>=4.12->nbformat) (307)\n",
      "Downloading nbformat-5.10.4-py3-none-any.whl (78 kB)\n",
      "Downloading fastjsonschema-2.21.1-py3-none-any.whl (23 kB)\n",
      "Downloading jsonschema-4.23.0-py3-none-any.whl (88 kB)\n",
      "Downloading attrs-24.2.0-py3-none-any.whl (63 kB)\n",
      "Downloading jsonschema_specifications-2024.10.1-py3-none-any.whl (18 kB)\n",
      "Downloading referencing-0.35.1-py3-none-any.whl (26 kB)\n",
      "Downloading rpds_py-0.22.3-cp312-cp312-win_amd64.whl (235 kB)\n",
      "Installing collected packages: fastjsonschema, rpds-py, attrs, referencing, jsonschema-specifications, jsonschema, nbformat\n",
      "Successfully installed attrs-24.2.0 fastjsonschema-2.21.1 jsonschema-4.23.0 jsonschema-specifications-2024.10.1 nbformat-5.10.4 referencing-0.35.1 rpds-py-0.22.3\n"
     ]
    }
   ],
   "source": [
    "pip install nbformat"
   ]
  },
  {
   "cell_type": "code",
   "execution_count": 8,
   "metadata": {},
   "outputs": [
    {
     "ename": "SyntaxError",
     "evalue": "invalid syntax (1898200356.py, line 1)",
     "output_type": "error",
     "traceback": [
      "\u001b[1;36m  Cell \u001b[1;32mIn[8], line 1\u001b[1;36m\u001b[0m\n\u001b[1;33m    jupyter nbconvert --to notebook --NotebookApp.nbformat=4 tugas1.ipynb\u001b[0m\n\u001b[1;37m            ^\u001b[0m\n\u001b[1;31mSyntaxError\u001b[0m\u001b[1;31m:\u001b[0m invalid syntax\n"
     ]
    }
   ],
   "source": [
    "jupyter nbconvert --to notebook --NotebookApp.nbformat=4 tugas1.ipynb"
   ]
  }
 ],
 "metadata": {
  "kernelspec": {
   "display_name": "Python 3",
   "language": "python",
   "name": "python3"
  },
  "language_info": {
   "codemirror_mode": {
    "name": "ipython",
    "version": 3
   },
   "file_extension": ".py",
   "mimetype": "text/x-python",
   "name": "python",
   "nbconvert_exporter": "python",
   "pygments_lexer": "ipython3",
   "version": "3.12.6"
  }
 },
 "nbformat": 4,
 "nbformat_minor": 2
}
